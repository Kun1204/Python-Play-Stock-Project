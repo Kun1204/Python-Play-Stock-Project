{
 "cells": [
  {
   "cell_type": "code",
   "execution_count": 1,
   "metadata": {},
   "outputs": [],
   "source": [
    "%matplotlib inline\n",
    "import numpy as numpy\n",
    "import matplotlib.pyplot as plt"
   ]
  },
  {
   "cell_type": "code",
   "execution_count": 2,
   "metadata": {},
   "outputs": [
    {
     "name": "stdout",
     "output_type": "stream",
     "text": [
      "Collecting package metadata (repodata.json): ...working... done\n",
      "Solving environment: ...working... done\n",
      "\n",
      "## Package Plan ##\n",
      "\n",
      "  environment location: C:\\Users\\sean7\\Anaconda3\n",
      "\n",
      "  added / updated specs:\n",
      "    - pandas-datareader\n",
      "\n",
      "\n",
      "The following packages will be downloaded:\n",
      "\n",
      "    package                    |            build\n",
      "    ---------------------------|-----------------\n",
      "    conda-4.8.1                |           py37_0         3.0 MB\n",
      "    pandas-datareader-0.8.1    |             py_0          71 KB\n",
      "    ------------------------------------------------------------\n",
      "                                           Total:         3.1 MB\n",
      "\n",
      "The following packages will be UPDATED:\n",
      "\n",
      "  conda                                       4.7.10-py37_0 --> 4.8.1-py37_0\n",
      "  pandas-datareader  pkgs/main/win-64::pandas-datareader-0~ --> pkgs/main/noarch::pandas-datareader-0.8.1-py_0\n",
      "\n",
      "\n",
      "\n",
      "Downloading and Extracting Packages\n",
      "\n",
      "conda-4.8.1          | 3.0 MB    |            |   0% \n",
      "conda-4.8.1          | 3.0 MB    |            |   1% \n",
      "conda-4.8.1          | 3.0 MB    | 9          |  10% \n",
      "conda-4.8.1          | 3.0 MB    | ##         |  21% \n",
      "conda-4.8.1          | 3.0 MB    | ###5       |  35% \n",
      "conda-4.8.1          | 3.0 MB    | #####      |  51% \n",
      "conda-4.8.1          | 3.0 MB    | ######4    |  65% \n",
      "conda-4.8.1          | 3.0 MB    | #######5   |  76% \n",
      "conda-4.8.1          | 3.0 MB    | ########9  |  90% \n",
      "conda-4.8.1          | 3.0 MB    | ########## | 100% \n",
      "\n",
      "pandas-datareader-0. | 71 KB     |            |   0% \n",
      "pandas-datareader-0. | 71 KB     | ########## | 100% \n",
      "Preparing transaction: ...working... done\n",
      "Verifying transaction: ...working... done\n",
      "Executing transaction: ...working... done\n",
      "\n",
      "Note: you may need to restart the kernel to use updated packages.\n"
     ]
    }
   ],
   "source": [
    "conda install pandas-datareader"
   ]
  },
  {
   "cell_type": "code",
   "execution_count": 3,
   "metadata": {},
   "outputs": [],
   "source": [
    "import pandas_datareader.data as web"
   ]
  },
  {
   "cell_type": "code",
   "execution_count": 4,
   "metadata": {},
   "outputs": [],
   "source": [
    "df = web.DataReader(\"AAPL\", \"yahoo\", start=\"2012-9-1\", end=\"2020-1-1\")"
   ]
  },
  {
   "cell_type": "code",
   "execution_count": 5,
   "metadata": {},
   "outputs": [
    {
     "data": {
      "text/html": [
       "<div>\n",
       "<style scoped>\n",
       "    .dataframe tbody tr th:only-of-type {\n",
       "        vertical-align: middle;\n",
       "    }\n",
       "\n",
       "    .dataframe tbody tr th {\n",
       "        vertical-align: top;\n",
       "    }\n",
       "\n",
       "    .dataframe thead th {\n",
       "        text-align: right;\n",
       "    }\n",
       "</style>\n",
       "<table border=\"1\" class=\"dataframe\">\n",
       "  <thead>\n",
       "    <tr style=\"text-align: right;\">\n",
       "      <th></th>\n",
       "      <th>High</th>\n",
       "      <th>Low</th>\n",
       "      <th>Open</th>\n",
       "      <th>Close</th>\n",
       "      <th>Volume</th>\n",
       "      <th>Adj Close</th>\n",
       "    </tr>\n",
       "    <tr>\n",
       "      <th>Date</th>\n",
       "      <th></th>\n",
       "      <th></th>\n",
       "      <th></th>\n",
       "      <th></th>\n",
       "      <th></th>\n",
       "      <th></th>\n",
       "    </tr>\n",
       "  </thead>\n",
       "  <tbody>\n",
       "    <tr>\n",
       "      <th>2012-09-04</th>\n",
       "      <td>96.448570</td>\n",
       "      <td>94.928574</td>\n",
       "      <td>95.108574</td>\n",
       "      <td>96.424286</td>\n",
       "      <td>91973000.0</td>\n",
       "      <td>84.259094</td>\n",
       "    </tr>\n",
       "    <tr>\n",
       "      <th>2012-09-05</th>\n",
       "      <td>96.621429</td>\n",
       "      <td>95.657143</td>\n",
       "      <td>96.510002</td>\n",
       "      <td>95.747147</td>\n",
       "      <td>84093800.0</td>\n",
       "      <td>83.667366</td>\n",
       "    </tr>\n",
       "    <tr>\n",
       "      <th>2012-09-06</th>\n",
       "      <td>96.898575</td>\n",
       "      <td>95.828575</td>\n",
       "      <td>96.167145</td>\n",
       "      <td>96.610001</td>\n",
       "      <td>97799100.0</td>\n",
       "      <td>84.421394</td>\n",
       "    </tr>\n",
       "    <tr>\n",
       "      <th>2012-09-07</th>\n",
       "      <td>97.497147</td>\n",
       "      <td>96.538574</td>\n",
       "      <td>96.864288</td>\n",
       "      <td>97.205711</td>\n",
       "      <td>82416600.0</td>\n",
       "      <td>84.941940</td>\n",
       "    </tr>\n",
       "    <tr>\n",
       "      <th>2012-09-10</th>\n",
       "      <td>97.612854</td>\n",
       "      <td>94.585716</td>\n",
       "      <td>97.207146</td>\n",
       "      <td>94.677139</td>\n",
       "      <td>121999500.0</td>\n",
       "      <td>82.732361</td>\n",
       "    </tr>\n",
       "  </tbody>\n",
       "</table>\n",
       "</div>"
      ],
      "text/plain": [
       "                 High        Low       Open      Close       Volume  Adj Close\n",
       "Date                                                                          \n",
       "2012-09-04  96.448570  94.928574  95.108574  96.424286   91973000.0  84.259094\n",
       "2012-09-05  96.621429  95.657143  96.510002  95.747147   84093800.0  83.667366\n",
       "2012-09-06  96.898575  95.828575  96.167145  96.610001   97799100.0  84.421394\n",
       "2012-09-07  97.497147  96.538574  96.864288  97.205711   82416600.0  84.941940\n",
       "2012-09-10  97.612854  94.585716  97.207146  94.677139  121999500.0  82.732361"
      ]
     },
     "execution_count": 5,
     "metadata": {},
     "output_type": "execute_result"
    }
   ],
   "source": [
    "df.head()"
   ]
  },
  {
   "cell_type": "code",
   "execution_count": 6,
   "metadata": {},
   "outputs": [
    {
     "data": {
      "text/html": [
       "<div>\n",
       "<style scoped>\n",
       "    .dataframe tbody tr th:only-of-type {\n",
       "        vertical-align: middle;\n",
       "    }\n",
       "\n",
       "    .dataframe tbody tr th {\n",
       "        vertical-align: top;\n",
       "    }\n",
       "\n",
       "    .dataframe thead th {\n",
       "        text-align: right;\n",
       "    }\n",
       "</style>\n",
       "<table border=\"1\" class=\"dataframe\">\n",
       "  <thead>\n",
       "    <tr style=\"text-align: right;\">\n",
       "      <th></th>\n",
       "      <th>High</th>\n",
       "      <th>Low</th>\n",
       "      <th>Open</th>\n",
       "      <th>Close</th>\n",
       "      <th>Volume</th>\n",
       "      <th>Adj Close</th>\n",
       "    </tr>\n",
       "    <tr>\n",
       "      <th>Date</th>\n",
       "      <th></th>\n",
       "      <th></th>\n",
       "      <th></th>\n",
       "      <th></th>\n",
       "      <th></th>\n",
       "      <th></th>\n",
       "    </tr>\n",
       "  </thead>\n",
       "  <tbody>\n",
       "    <tr>\n",
       "      <th>2019-12-26</th>\n",
       "      <td>289.980011</td>\n",
       "      <td>284.700012</td>\n",
       "      <td>284.820007</td>\n",
       "      <td>289.910004</td>\n",
       "      <td>23280300.0</td>\n",
       "      <td>289.910004</td>\n",
       "    </tr>\n",
       "    <tr>\n",
       "      <th>2019-12-27</th>\n",
       "      <td>293.970001</td>\n",
       "      <td>288.119995</td>\n",
       "      <td>291.119995</td>\n",
       "      <td>289.799988</td>\n",
       "      <td>36566500.0</td>\n",
       "      <td>289.799988</td>\n",
       "    </tr>\n",
       "    <tr>\n",
       "      <th>2019-12-30</th>\n",
       "      <td>292.690002</td>\n",
       "      <td>285.220001</td>\n",
       "      <td>289.459991</td>\n",
       "      <td>291.519989</td>\n",
       "      <td>36028600.0</td>\n",
       "      <td>291.519989</td>\n",
       "    </tr>\n",
       "    <tr>\n",
       "      <th>2019-12-31</th>\n",
       "      <td>293.679993</td>\n",
       "      <td>289.519989</td>\n",
       "      <td>289.929993</td>\n",
       "      <td>293.649994</td>\n",
       "      <td>25201400.0</td>\n",
       "      <td>293.649994</td>\n",
       "    </tr>\n",
       "    <tr>\n",
       "      <th>2020-01-02</th>\n",
       "      <td>300.600006</td>\n",
       "      <td>295.190002</td>\n",
       "      <td>296.239990</td>\n",
       "      <td>300.350006</td>\n",
       "      <td>33870100.0</td>\n",
       "      <td>300.350006</td>\n",
       "    </tr>\n",
       "  </tbody>\n",
       "</table>\n",
       "</div>"
      ],
      "text/plain": [
       "                  High         Low        Open       Close      Volume  \\\n",
       "Date                                                                     \n",
       "2019-12-26  289.980011  284.700012  284.820007  289.910004  23280300.0   \n",
       "2019-12-27  293.970001  288.119995  291.119995  289.799988  36566500.0   \n",
       "2019-12-30  292.690002  285.220001  289.459991  291.519989  36028600.0   \n",
       "2019-12-31  293.679993  289.519989  289.929993  293.649994  25201400.0   \n",
       "2020-01-02  300.600006  295.190002  296.239990  300.350006  33870100.0   \n",
       "\n",
       "             Adj Close  \n",
       "Date                    \n",
       "2019-12-26  289.910004  \n",
       "2019-12-27  289.799988  \n",
       "2019-12-30  291.519989  \n",
       "2019-12-31  293.649994  \n",
       "2020-01-02  300.350006  "
      ]
     },
     "execution_count": 6,
     "metadata": {},
     "output_type": "execute_result"
    }
   ],
   "source": [
    "df.tail()"
   ]
  },
  {
   "cell_type": "code",
   "execution_count": 7,
   "metadata": {},
   "outputs": [],
   "source": [
    "P = df[\"Adj Close\"]"
   ]
  },
  {
   "cell_type": "code",
   "execution_count": 8,
   "metadata": {},
   "outputs": [
    {
     "data": {
      "text/plain": [
       "Date\n",
       "2012-09-04    84.259094\n",
       "2012-09-05    83.667366\n",
       "2012-09-06    84.421394\n",
       "2012-09-07    84.941940\n",
       "2012-09-10    82.732361\n",
       "Name: Adj Close, dtype: float64"
      ]
     },
     "execution_count": 8,
     "metadata": {},
     "output_type": "execute_result"
    }
   ],
   "source": [
    "P.head()"
   ]
  },
  {
   "cell_type": "code",
   "execution_count": 9,
   "metadata": {},
   "outputs": [
    {
     "data": {
      "text/plain": [
       "<matplotlib.axes._subplots.AxesSubplot at 0x1f37894bfd0>"
      ]
     },
     "execution_count": 9,
     "metadata": {},
     "output_type": "execute_result"
    },
    {
     "data": {
      "image/png": "[encoded data removed]",
      "text/plain": [
       "<Figure size 432x288 with 1 Axes>"
      ]
     },
     "metadata": {
      "needs_background": "light"
     },
     "output_type": "display_data"
    }
   ],
   "source": [
    "P.plot()"
   ]
  },
  {
   "cell_type": "code",
   "execution_count": 10,
   "metadata": {},
   "outputs": [
    {
     "data": {
      "text/plain": [
       "Date\n",
       "2012-09-04         NaN\n",
       "2012-09-05   -0.591728\n",
       "2012-09-06    0.754028\n",
       "2012-09-07    0.520546\n",
       "2012-09-10   -2.209579\n",
       "2012-09-11   -0.268394\n",
       "2012-09-12    1.148491\n",
       "2012-09-13    1.646545\n",
       "2012-09-14    1.036125\n",
       "2012-09-17    1.061081\n",
       "2012-09-18    0.265900\n",
       "2012-09-19    0.023705\n",
       "2012-09-20   -0.424416\n",
       "2012-09-21    0.173523\n",
       "2012-09-24   -1.160965\n",
       "2012-09-25   -2.153374\n",
       "2012-09-26   -1.043633\n",
       "2012-09-27    2.014839\n",
       "2012-09-28   -1.775154\n",
       "2012-10-01   -0.962456\n",
       "2012-10-02    0.239677\n",
       "2012-10-03    1.265816\n",
       "2012-10-04   -0.580498\n",
       "2012-10-05   -1.773888\n",
       "2012-10-08   -1.800102\n",
       "2012-10-09   -0.289604\n",
       "2012-10-10    0.631668\n",
       "2012-10-11   -1.599121\n",
       "2012-10-12    0.200974\n",
       "2012-10-15    0.630424\n",
       "                ...   \n",
       "2019-11-19   -0.809998\n",
       "2019-11-20   -3.100006\n",
       "2019-11-21   -1.179993\n",
       "2019-11-22   -0.230011\n",
       "2019-11-25    4.589996\n",
       "2019-11-26   -2.079987\n",
       "2019-11-27    3.549988\n",
       "2019-11-29   -0.589996\n",
       "2019-12-02   -3.089996\n",
       "2019-12-03   -4.709991\n",
       "2019-12-04    2.289978\n",
       "2019-12-05    3.839996\n",
       "2019-12-06    5.130005\n",
       "2019-12-09   -3.789978\n",
       "2019-12-10    1.559998\n",
       "2019-12-11    2.289978\n",
       "2019-12-12    0.690002\n",
       "2019-12-13    3.690002\n",
       "2019-12-16    4.709991\n",
       "2019-12-17    0.550018\n",
       "2019-12-18   -0.670013\n",
       "2019-12-19    0.279999\n",
       "2019-12-20   -0.579987\n",
       "2019-12-23    4.559998\n",
       "2019-12-24    0.269989\n",
       "2019-12-26    5.640015\n",
       "2019-12-27   -0.110016\n",
       "2019-12-30    1.720001\n",
       "2019-12-31    2.130005\n",
       "2020-01-02    6.700012\n",
       "Name: Adj Close, Length: 1844, dtype: float64"
      ]
     },
     "execution_count": 10,
     "metadata": {},
     "output_type": "execute_result"
    }
   ],
   "source": [
    "P.diff()"
   ]
  },
  {
   "cell_type": "code",
   "execution_count": 11,
   "metadata": {},
   "outputs": [],
   "source": [
    "r = P.diff()/P"
   ]
  },
  {
   "cell_type": "code",
   "execution_count": 14,
   "metadata": {},
   "outputs": [
    {
     "data": {
      "text/plain": [
       "<matplotlib.axes._subplots.AxesSubplot at 0x1f378b4fac8>"
      ]
     },
     "execution_count": 14,
     "metadata": {},
     "output_type": "execute_result"
    },
    {
     "data": {
      "image/png": "[encoded data removed]",
      "text/plain": [
       "<Figure size 432x288 with 1 Axes>"
      ]
     },
     "metadata": {
      "needs_background": "light"
     },
     "output_type": "display_data"
    }
   ],
   "source": [
    "r[-100:].plot()"
   ]
  },
  {
   "cell_type": "code",
   "execution_count": 15,
   "metadata": {},
   "outputs": [
    {
     "data": {
      "text/plain": [
       "Date\n",
       "2012-09-04           NaN\n",
       "2012-09-05           NaN\n",
       "2012-09-06           NaN\n",
       "2012-09-07           NaN\n",
       "2012-09-10           NaN\n",
       "2012-09-11           NaN\n",
       "2012-09-12           NaN\n",
       "2012-09-13           NaN\n",
       "2012-09-14           NaN\n",
       "2012-09-17           NaN\n",
       "2012-09-18           NaN\n",
       "2012-09-19           NaN\n",
       "2012-09-20           NaN\n",
       "2012-09-21           NaN\n",
       "2012-09-24           NaN\n",
       "2012-09-25           NaN\n",
       "2012-09-26           NaN\n",
       "2012-09-27           NaN\n",
       "2012-09-28           NaN\n",
       "2012-10-01     84.944362\n",
       "2012-10-02     84.859100\n",
       "2012-10-03     84.866716\n",
       "2012-10-04     84.807605\n",
       "2012-10-05     84.633772\n",
       "2012-10-08     84.480413\n",
       "2012-10-09     84.325994\n",
       "2012-10-10     84.145733\n",
       "2012-10-11     83.803189\n",
       "2012-10-12     83.418888\n",
       "2012-10-15     83.013054\n",
       "                 ...    \n",
       "2019-11-19    255.358114\n",
       "2019-11-20    256.395010\n",
       "2019-11-21    257.352966\n",
       "2019-11-22    258.149870\n",
       "2019-11-25    259.053143\n",
       "2019-11-26    260.139556\n",
       "2019-11-27    261.404964\n",
       "2019-11-29    262.366695\n",
       "2019-12-02    262.821982\n",
       "2019-12-03    262.958022\n",
       "2019-12-04    263.227003\n",
       "2019-12-05    263.682503\n",
       "2019-12-06    264.246503\n",
       "2019-12-09    264.585503\n",
       "2019-12-10    264.899503\n",
       "2019-12-11    265.340002\n",
       "2019-12-12    265.689502\n",
       "2019-12-13    266.315001\n",
       "2019-12-16    267.020000\n",
       "2019-12-17    267.685500\n",
       "2019-12-18    268.357999\n",
       "2019-12-19    269.199498\n",
       "2019-12-20    270.070998\n",
       "2019-12-23    271.181998\n",
       "2019-12-24    272.076997\n",
       "2019-12-26    273.357997\n",
       "2019-12-27    274.455997\n",
       "2019-12-30    275.669496\n",
       "2019-12-31    277.143996\n",
       "2020-01-02    279.188995\n",
       "Name: Adj Close, Length: 1844, dtype: float64"
      ]
     },
     "execution_count": 15,
     "metadata": {},
     "output_type": "execute_result"
    }
   ],
   "source": [
    "P.rolling(window=20).mean()"
   ]
  },
  {
   "cell_type": "code",
   "execution_count": 17,
   "metadata": {},
   "outputs": [
    {
     "data": {
      "text/plain": [
       "<matplotlib.axes._subplots.AxesSubplot at 0x1f378a77d30>"
      ]
     },
     "execution_count": 17,
     "metadata": {},
     "output_type": "execute_result"
    },
    {
     "data": {
      "image/png": "[encoded data removed]",
      "text/plain": [
       "<Figure size 432x288 with 1 Axes>"
      ]
     },
     "metadata": {
      "needs_background": "light"
     },
     "output_type": "display_data"
    }
   ],
   "source": [
    "P.plot()\n",
    "P.rolling(window=20).mean().plot()\n",
    "P.rolling(window=60).mean().plot()"
   ]
  }
 ],
 "metadata": {
  "kernelspec": {
   "display_name": "Python 3",
   "language": "python",
   "name": "python3"
  },
  "language_info": {
   "codemirror_mode": {
    "name": "ipython",
    "version": 3
   },
   "file_extension": ".py",
   "mimetype": "text/x-python",
   "name": "python",
   "nbconvert_exporter": "python",
   "pygments_lexer": "ipython3",
   "version": "3.7.3"
  }
 },
 "nbformat": 4,
 "nbformat_minor": 2
}
